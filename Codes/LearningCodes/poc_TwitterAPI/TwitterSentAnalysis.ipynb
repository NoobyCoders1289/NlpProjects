{
 "cells": [
  {
   "cell_type": "markdown",
   "metadata": {},
   "source": [
    "# Sentiment Analysis of Twitter Reviews\n",
    "\n",
    "### Tasks\n",
    "+ Text Preprocessing\n",
    "+ Sentiment Analysis\n",
    "+ Keyword Extraction\n",
    "+ Entity Extarction\n",
    "\n",
    "### Dataset:\n",
    "+ TwitterAPI Extracted data of various Telecom companies of UK"
   ]
  },
  {
   "cell_type": "markdown",
   "metadata": {},
   "source": [
    "Imports"
   ]
  },
  {
   "cell_type": "code",
   "execution_count": 84,
   "metadata": {},
   "outputs": [],
   "source": [
    "### EDA pkg\n",
    "import pandas as pd\n",
    "\n",
    "### Data viz pkg\n",
    "import matplotlib.pyplot as plt\n",
    "import seaborn as sns\n",
    "\n",
    "### Hide warnings\n",
    "import warnings \n",
    "warnings.filterwarnings('ignore')"
   ]
  },
  {
   "cell_type": "code",
   "execution_count": 85,
   "metadata": {},
   "outputs": [
    {
     "data": {
      "text/html": [
       "<div>\n",
       "<style scoped>\n",
       "    .dataframe tbody tr th:only-of-type {\n",
       "        vertical-align: middle;\n",
       "    }\n",
       "\n",
       "    .dataframe tbody tr th {\n",
       "        vertical-align: top;\n",
       "    }\n",
       "\n",
       "    .dataframe thead th {\n",
       "        text-align: right;\n",
       "    }\n",
       "</style>\n",
       "<table border=\"1\" class=\"dataframe\">\n",
       "  <thead>\n",
       "    <tr style=\"text-align: right;\">\n",
       "      <th></th>\n",
       "      <th>created_at</th>\n",
       "      <th>id</th>\n",
       "      <th>author_id</th>\n",
       "      <th>text</th>\n",
       "      <th>name</th>\n",
       "      <th>location</th>\n",
       "      <th>username</th>\n",
       "    </tr>\n",
       "  </thead>\n",
       "  <tbody>\n",
       "    <tr>\n",
       "      <th>0</th>\n",
       "      <td>2022-03-03T19:39:40.000Z</td>\n",
       "      <td>4.849036e+09</td>\n",
       "      <td>4.849036e+09</td>\n",
       "      <td>@Corbo12Ian @paullewismoney @bt_uk Any phone w...</td>\n",
       "      <td>Simon the Smith 3.5%</td>\n",
       "      <td>Sarf East mate</td>\n",
       "      <td>Simstersnose</td>\n",
       "    </tr>\n",
       "    <tr>\n",
       "      <th>1</th>\n",
       "      <td>2022-03-03T19:39:33.000Z</td>\n",
       "      <td>2.132926e+07</td>\n",
       "      <td>2.132926e+07</td>\n",
       "      <td>Good to see big business know COVID is over wi...</td>\n",
       "      <td>Gemma Walton 💙</td>\n",
       "      <td>Sunderland, UK</td>\n",
       "      <td>GemmaWalton76</td>\n",
       "    </tr>\n",
       "    <tr>\n",
       "      <th>2</th>\n",
       "      <td>2022-03-03T19:37:29.000Z</td>\n",
       "      <td>2.332033e+09</td>\n",
       "      <td>2.332033e+09</td>\n",
       "      <td>@MoggsyG @paullewismoney @bt_uk I'm totally co...</td>\n",
       "      <td>Miranda Whiting</td>\n",
       "      <td>NaN</td>\n",
       "      <td>MirandaWhiting</td>\n",
       "    </tr>\n",
       "    <tr>\n",
       "      <th>3</th>\n",
       "      <td>2022-03-03T19:36:42.000Z</td>\n",
       "      <td>4.849036e+09</td>\n",
       "      <td>4.849036e+09</td>\n",
       "      <td>@Julford57 @Essexisgreat @paullewismoney @bt_u...</td>\n",
       "      <td>Simon the Smith 3.5%</td>\n",
       "      <td>Sarf East mate</td>\n",
       "      <td>Simstersnose</td>\n",
       "    </tr>\n",
       "    <tr>\n",
       "      <th>4</th>\n",
       "      <td>2022-03-03T19:34:49.000Z</td>\n",
       "      <td>4.849036e+09</td>\n",
       "      <td>4.849036e+09</td>\n",
       "      <td>@paullewismoney @bt_uk The issue I have is tha...</td>\n",
       "      <td>Simon the Smith 3.5%</td>\n",
       "      <td>Sarf East mate</td>\n",
       "      <td>Simstersnose</td>\n",
       "    </tr>\n",
       "  </tbody>\n",
       "</table>\n",
       "</div>"
      ],
      "text/plain": [
       "                 created_at            id     author_id  \\\n",
       "0  2022-03-03T19:39:40.000Z  4.849036e+09  4.849036e+09   \n",
       "1  2022-03-03T19:39:33.000Z  2.132926e+07  2.132926e+07   \n",
       "2  2022-03-03T19:37:29.000Z  2.332033e+09  2.332033e+09   \n",
       "3  2022-03-03T19:36:42.000Z  4.849036e+09  4.849036e+09   \n",
       "4  2022-03-03T19:34:49.000Z  4.849036e+09  4.849036e+09   \n",
       "\n",
       "                                                text                  name  \\\n",
       "0  @Corbo12Ian @paullewismoney @bt_uk Any phone w...  Simon the Smith 3.5%   \n",
       "1  Good to see big business know COVID is over wi...        Gemma Walton 💙   \n",
       "2  @MoggsyG @paullewismoney @bt_uk I'm totally co...       Miranda Whiting   \n",
       "3  @Julford57 @Essexisgreat @paullewismoney @bt_u...  Simon the Smith 3.5%   \n",
       "4  @paullewismoney @bt_uk The issue I have is tha...  Simon the Smith 3.5%   \n",
       "\n",
       "         location        username  \n",
       "0  Sarf East mate    Simstersnose  \n",
       "1  Sunderland, UK   GemmaWalton76  \n",
       "2             NaN  MirandaWhiting  \n",
       "3  Sarf East mate    Simstersnose  \n",
       "4  Sarf East mate    Simstersnose  "
      ]
     },
     "execution_count": 85,
     "metadata": {},
     "output_type": "execute_result"
    }
   ],
   "source": [
    "## Load Dataset\n",
    "df = pd.read_csv('FinalCsv.csv', index_col = False)\n",
    "\n",
    "###Preview\n",
    "df.head()"
   ]
  },
  {
   "cell_type": "code",
   "execution_count": 86,
   "metadata": {},
   "outputs": [
    {
     "name": "stdout",
     "output_type": "stream",
     "text": [
      "Index(['created_at', 'id', 'author_id', 'text', 'name', 'location',\n",
      "       'username'],\n",
      "      dtype='object')\n",
      "(2359, 7)\n",
      "created_at     object\n",
      "id            float64\n",
      "author_id     float64\n",
      "text           object\n",
      "name           object\n",
      "location       object\n",
      "username       object\n",
      "dtype: object\n"
     ]
    }
   ],
   "source": [
    "### Some operation to know abt data\n",
    "print(df.columns)\n",
    "print(df.shape)\n",
    "print(df.dtypes)"
   ]
  },
  {
   "cell_type": "markdown",
   "metadata": {},
   "source": [
    "## Text Preprocessing\n",
    "### Tasks \n",
    "+ Remove Mentions / Hashtags \n",
    "+ ['remove_emails','remove_emojis',\n",
    " 'remove_multiple_spaces','remove_puncts','remove_special_characters',\n",
    " 'remove_stopwords','remove_urls','remove_userhandles']"
   ]
  },
  {
   "cell_type": "code",
   "execution_count": 87,
   "metadata": {},
   "outputs": [],
   "source": [
    "### Text cleaning pkg\n",
    "import neattext.functions as nfx\n",
    "import re\n",
    "\n",
    "### Methods and Attributes of neattext\n",
    "# dir(nfx)"
   ]
  },
  {
   "cell_type": "code",
   "execution_count": 88,
   "metadata": {},
   "outputs": [],
   "source": [
    "## Function to clean text\n",
    "\n",
    "# # def cleanText(text):\n",
    "# df['clean_text'] = df['text'].apply(lambda x : x.lower())\n",
    "# df['clean_text'] = df['clean_text'].apply(nfx.remove_userhandles)\n",
    "# df['clean_text'] = df['clean_text'].apply(nfx.remove_hashtags)\n",
    "# df['clean_text'] = df['clean_text'].apply(nfx.remove_emojis)\n",
    "# df['clean_text'] = df['clean_text'].apply(nfx.remove_urls)\n",
    "# df['clean_text'] = df['clean_text'].apply(nfx.remove_puncts)\n",
    "# df['clean_text'] = df['clean_text'].apply(nfx.remove_special_characters)\n",
    "# df['clean_text'] = df['clean_text'].apply(nfx.remove_multiple_spaces)\n",
    "# df['clean_text'] = df['clean_text'].apply(lambda x : x.strip())\n",
    "\n",
    "def cleanText(text):\n",
    "    text = text.lower()\n",
    "    text = nfx.remove_userhandles(text)\n",
    "    text = nfx.remove_emojis(text)\n",
    "    text = nfx.remove_urls(text)\n",
    "    text = nfx.remove_puncts(text)\n",
    "    text = nfx.remove_special_characters(text)\n",
    "    text = nfx.remove_multiple_spaces(text)\n",
    "    text = text.strip()\n",
    "    text = re.sub(r'#','',text)\n",
    "    return text\n",
    "\n",
    "df['clean_text'] = df['text'].apply(cleanText)"
   ]
  },
  {
   "cell_type": "code",
   "execution_count": 89,
   "metadata": {},
   "outputs": [
    {
     "data": {
      "text/html": [
       "<div>\n",
       "<style scoped>\n",
       "    .dataframe tbody tr th:only-of-type {\n",
       "        vertical-align: middle;\n",
       "    }\n",
       "\n",
       "    .dataframe tbody tr th {\n",
       "        vertical-align: top;\n",
       "    }\n",
       "\n",
       "    .dataframe thead th {\n",
       "        text-align: right;\n",
       "    }\n",
       "</style>\n",
       "<table border=\"1\" class=\"dataframe\">\n",
       "  <thead>\n",
       "    <tr style=\"text-align: right;\">\n",
       "      <th></th>\n",
       "      <th>text</th>\n",
       "      <th>clean_text</th>\n",
       "    </tr>\n",
       "  </thead>\n",
       "  <tbody>\n",
       "    <tr>\n",
       "      <th>0</th>\n",
       "      <td>@Corbo12Ian @paullewismoney @bt_uk Any phone w...</td>\n",
       "      <td>any phone with the usual plug on it should wor...</td>\n",
       "    </tr>\n",
       "    <tr>\n",
       "      <th>1</th>\n",
       "      <td>Good to see big business know COVID is over wi...</td>\n",
       "      <td>good to see big business know covid is over wi...</td>\n",
       "    </tr>\n",
       "    <tr>\n",
       "      <th>2</th>\n",
       "      <td>@MoggsyG @paullewismoney @bt_uk I'm totally co...</td>\n",
       "      <td>im totally confused now we got a new modem the...</td>\n",
       "    </tr>\n",
       "    <tr>\n",
       "      <th>3</th>\n",
       "      <td>@Julford57 @Essexisgreat @paullewismoney @bt_u...</td>\n",
       "      <td>i think the masts have battery back up for a w...</td>\n",
       "    </tr>\n",
       "    <tr>\n",
       "      <th>4</th>\n",
       "      <td>@paullewismoney @bt_uk The issue I have is tha...</td>\n",
       "      <td>the issue i have is that all overseas calls sh...</td>\n",
       "    </tr>\n",
       "    <tr>\n",
       "      <th>...</th>\n",
       "      <td>...</td>\n",
       "      <td>...</td>\n",
       "    </tr>\n",
       "    <tr>\n",
       "      <th>2354</th>\n",
       "      <td>@VodafoneUK #LOVE - my beautiful ones 🥰 https:...</td>\n",
       "      <td>love my beautiful ones</td>\n",
       "    </tr>\n",
       "    <tr>\n",
       "      <th>2355</th>\n",
       "      <td>@VodafoneUK I #LOVE this one, which I took on ...</td>\n",
       "      <td>i love this one which i took on my oppo find x...</td>\n",
       "    </tr>\n",
       "    <tr>\n",
       "      <th>2356</th>\n",
       "      <td>@VodafoneUK Sent ✔</td>\n",
       "      <td>sent</td>\n",
       "    </tr>\n",
       "    <tr>\n",
       "      <th>2357</th>\n",
       "      <td>Looking forward to @bannockburnrfc in just ove...</td>\n",
       "      <td>looking forward to in just over a week lots of...</td>\n",
       "    </tr>\n",
       "    <tr>\n",
       "      <th>2358</th>\n",
       "      <td>@VodafoneUK I have. It shows December but the ...</td>\n",
       "      <td>i have it shows december but the guys on the p...</td>\n",
       "    </tr>\n",
       "  </tbody>\n",
       "</table>\n",
       "<p>2359 rows × 2 columns</p>\n",
       "</div>"
      ],
      "text/plain": [
       "                                                   text  \\\n",
       "0     @Corbo12Ian @paullewismoney @bt_uk Any phone w...   \n",
       "1     Good to see big business know COVID is over wi...   \n",
       "2     @MoggsyG @paullewismoney @bt_uk I'm totally co...   \n",
       "3     @Julford57 @Essexisgreat @paullewismoney @bt_u...   \n",
       "4     @paullewismoney @bt_uk The issue I have is tha...   \n",
       "...                                                 ...   \n",
       "2354  @VodafoneUK #LOVE - my beautiful ones 🥰 https:...   \n",
       "2355  @VodafoneUK I #LOVE this one, which I took on ...   \n",
       "2356                                 @VodafoneUK Sent ✔   \n",
       "2357  Looking forward to @bannockburnrfc in just ove...   \n",
       "2358  @VodafoneUK I have. It shows December but the ...   \n",
       "\n",
       "                                             clean_text  \n",
       "0     any phone with the usual plug on it should wor...  \n",
       "1     good to see big business know covid is over wi...  \n",
       "2     im totally confused now we got a new modem the...  \n",
       "3     i think the masts have battery back up for a w...  \n",
       "4     the issue i have is that all overseas calls sh...  \n",
       "...                                                 ...  \n",
       "2354                             love my beautiful ones  \n",
       "2355  i love this one which i took on my oppo find x...  \n",
       "2356                                               sent  \n",
       "2357  looking forward to in just over a week lots of...  \n",
       "2358  i have it shows december but the guys on the p...  \n",
       "\n",
       "[2359 rows x 2 columns]"
      ]
     },
     "execution_count": 89,
     "metadata": {},
     "output_type": "execute_result"
    }
   ],
   "source": [
    "df[['text','clean_text']]"
   ]
  },
  {
   "cell_type": "code",
   "execution_count": 90,
   "metadata": {},
   "outputs": [
    {
     "data": {
      "text/plain": [
       "\"@MirandaWhiting I asked if I could go onto a broadband-only deal as I don't really use the landline. Yes of course, they replied. What will it cost? I asked. Exactly the same, I was told. BT: giving less for more (TM). @bt_uk\""
      ]
     },
     "execution_count": 90,
     "metadata": {},
     "output_type": "execute_result"
    }
   ],
   "source": [
    "### before Text Cleaning\n",
    "df['text'].iloc[100]"
   ]
  },
  {
   "cell_type": "code",
   "execution_count": 91,
   "metadata": {},
   "outputs": [
    {
     "data": {
      "text/plain": [
       "'i asked if i could go onto a broadbandonly deal as i dont really use the landline yes of course they replied what will it cost i asked exactly the same i was told bt giving less for more tm'"
      ]
     },
     "execution_count": 91,
     "metadata": {},
     "output_type": "execute_result"
    }
   ],
   "source": [
    "### After Text Cleaning\n",
    "df['clean_text'].iloc[100]"
   ]
  }
 ],
 "metadata": {
  "interpreter": {
   "hash": "8f8ccdbbfc733a2ded6e0bd8de1d8d497f5ed7c295c1ba75016564126b35d77d"
  },
  "kernelspec": {
   "display_name": "Python 3.9.9 ('venv': venv)",
   "language": "python",
   "name": "python3"
  },
  "language_info": {
   "codemirror_mode": {
    "name": "ipython",
    "version": 3
   },
   "file_extension": ".py",
   "mimetype": "text/x-python",
   "name": "python",
   "nbconvert_exporter": "python",
   "pygments_lexer": "ipython3",
   "version": "3.9.9"
  },
  "orig_nbformat": 4
 },
 "nbformat": 4,
 "nbformat_minor": 2
}
