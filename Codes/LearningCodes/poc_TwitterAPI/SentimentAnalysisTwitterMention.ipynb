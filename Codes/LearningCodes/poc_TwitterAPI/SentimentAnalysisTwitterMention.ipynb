{
 "cells": [
  {
   "cell_type": "code",
   "execution_count": 2,
   "metadata": {},
   "outputs": [],
   "source": [
    "import nltk"
   ]
  },
  {
   "cell_type": "code",
   "execution_count": 3,
   "metadata": {},
   "outputs": [
    {
     "name": "stderr",
     "output_type": "stream",
     "text": [
      "[nltk_data] Downloading package vader_lexicon to\n",
      "[nltk_data]     C:\\Users\\vanar\\AppData\\Roaming\\nltk_data...\n",
      "[nltk_data]   Package vader_lexicon is already up-to-date!\n"
     ]
    },
    {
     "data": {
      "text/plain": [
       "True"
      ]
     },
     "execution_count": 3,
     "metadata": {},
     "output_type": "execute_result"
    }
   ],
   "source": [
    "nltk.download(\"vader_lexicon\")"
   ]
  },
  {
   "cell_type": "code",
   "execution_count": 4,
   "metadata": {},
   "outputs": [],
   "source": [
    "from nltk.sentiment.vader import SentimentIntensityAnalyzer\n",
    "\n",
    "sent_analyzer = SentimentIntensityAnalyzer()\n"
   ]
  },
  {
   "cell_type": "code",
   "execution_count": 15,
   "metadata": {},
   "outputs": [],
   "source": [
    "import pandas as pd\n",
    "\n",
    "df = pd.read_csv('TweetsData.csv',index_col=0)"
   ]
  },
  {
   "cell_type": "code",
   "execution_count": 29,
   "metadata": {},
   "outputs": [
    {
     "data": {
      "text/plain": [
       "{'neg': 0.158, 'neu': 0.842, 'pos': 0.0, 'compound': -0.6124}"
      ]
     },
     "execution_count": 29,
     "metadata": {},
     "output_type": "execute_result"
    }
   ],
   "source": [
    "sent_analyzer.polarity_scores(df['text'][6])"
   ]
  },
  {
   "cell_type": "code",
   "execution_count": 30,
   "metadata": {},
   "outputs": [
    {
     "data": {
      "text/plain": [
       "'@VodafoneUK There is no planned coverage on your Network Status checker, is there a date for the rollout? The 5G network stops in Liverpool and then doesn’t start agin until Preston missing out everything in between.'"
      ]
     },
     "execution_count": 30,
     "metadata": {},
     "output_type": "execute_result"
    }
   ],
   "source": [
    "df['text'][6]"
   ]
  },
  {
   "cell_type": "code",
   "execution_count": 31,
   "metadata": {},
   "outputs": [],
   "source": [
    "import re\n",
    "import pandas as pd\n",
    "from nltk.corpus import stopwords\n",
    "from wordcloud import WordCloud, STOPWORDS\n",
    "import spacy"
   ]
  },
  {
   "cell_type": "code",
   "execution_count": 35,
   "metadata": {},
   "outputs": [],
   "source": [
    "nlp = spacy.load('en_core_web_sm')"
   ]
  },
  {
   "cell_type": "markdown",
   "metadata": {},
   "source": [
    "Lower case conversion"
   ]
  },
  {
   "cell_type": "code",
   "execution_count": 36,
   "metadata": {},
   "outputs": [
    {
     "data": {
      "text/plain": [
       "0    we are off! the final session of our inclusion...\n",
       "1    @vodafoneuk #vodafonetreats cause it’s camping...\n",
       "2    @vodafoneuk just finalising my mobile plan &am...\n",
       "3    @michaelblowfie2 hi michael, thanks for reachi...\n",
       "4    @jamboross hi ross, thanks for reaching out. p...\n",
       "Name: new_reviews, dtype: object"
      ]
     },
     "execution_count": 36,
     "metadata": {},
     "output_type": "execute_result"
    }
   ],
   "source": [
    "df['new_reviews'] = df['text'].apply(lambda x: \" \".join(x.lower() for x in x.split()))\n",
    "df['new_reviews'].head()"
   ]
  },
  {
   "cell_type": "code",
   "execution_count": null,
   "metadata": {},
   "outputs": [],
   "source": [
    "appost = [\"'tis\",\"'twas\",\"ain't\",\"aren't\",\"can't\",\"could've\",\"couldn't\",\"didn't\",\"doesn't\",\"don't\",\"hasn't\",\n",
    "\"he'd\",\"he'll\",\"he's\",\"how'd\",\"how'll\",\"how's\",\"i'd\",\"i'll\",\"i'm\",\"i've\",\"isn't\",\"it's\",\"might've\",\"mightn't\",\"must've\",\"mustn't\",\n",
    "\"shan't\",\"she'd\",\"she'll\",she's\",\"should've\",\"shouldn't\",\"that'll\",\"that's\",there's,they'd,they'll,they're,they've,wasn't,\n",
    "\"we'd\",\"we'll\",\"we're,\"weren't\",\"what'd\",\"what's\",\"when\",when'd\",when'll,when's,where'd,where'll,\n",
    "\"where's,\"who'd,\"who'll,\"who's,\"why'd,\"why'll,\"why's,\"won't,\"would've\",\"wouldn't\",\"you'd\",\"you'll,\"you're\",\"you've\"]"
   ]
  }
 ],
 "metadata": {
  "interpreter": {
   "hash": "8f8ccdbbfc733a2ded6e0bd8de1d8d497f5ed7c295c1ba75016564126b35d77d"
  },
  "kernelspec": {
   "display_name": "Python 3.9.9 ('venv': venv)",
   "language": "python",
   "name": "python3"
  },
  "language_info": {
   "codemirror_mode": {
    "name": "ipython",
    "version": 3
   },
   "file_extension": ".py",
   "mimetype": "text/x-python",
   "name": "python",
   "nbconvert_exporter": "python",
   "pygments_lexer": "ipython3",
   "version": "3.9.9"
  },
  "orig_nbformat": 4
 },
 "nbformat": 4,
 "nbformat_minor": 2
}
