{
 "cells": [
  {
   "cell_type": "markdown",
   "id": "2d468fa3",
   "metadata": {},
   "source": [
    "# string literals before 3.6"
   ]
  },
  {
   "cell_type": "code",
   "execution_count": 1,
   "id": "88f7aba6",
   "metadata": {},
   "outputs": [
    {
     "name": "stdout",
     "output_type": "stream",
     "text": [
      "My name is charan\n"
     ]
    }
   ],
   "source": [
    "name='charan'\n",
    "\n",
    "print('My name is {}'.format(name))"
   ]
  },
  {
   "cell_type": "markdown",
   "id": "c3ce60bb",
   "metadata": {},
   "source": [
    "# after 3.6"
   ]
  },
  {
   "cell_type": "code",
   "execution_count": 2,
   "id": "bef83d78",
   "metadata": {},
   "outputs": [
    {
     "name": "stdout",
     "output_type": "stream",
     "text": [
      "My name is charan\n"
     ]
    }
   ],
   "source": [
    "print(f'My name is {name}')"
   ]
  },
  {
   "cell_type": "code",
   "execution_count": 3,
   "id": "d89477ef",
   "metadata": {},
   "outputs": [],
   "source": [
    "Person = [('Name','Age','Gender'),('Charan',23,'M'),('Ramya',22,'F'),('Srikanth',25,'M'),('Priya',23,'F'),('Gayu',23,'F')]"
   ]
  },
  {
   "cell_type": "code",
   "execution_count": 16,
   "id": "a8e0258e",
   "metadata": {},
   "outputs": [
    {
     "name": "stdout",
     "output_type": "stream",
     "text": [
      "[('Name', 'Age', 'Gender'), ('Charan', 23, 'M'), ('Ramya', 22, 'F'), ('Srikanth', 25, 'M'), ('Priya', 23, 'F'), ('Gayu', 23, 'F')]\n"
     ]
    },
    {
     "data": {
      "text/plain": [
       "[('Name', 'Age', 'Gender'),\n",
       " ('Charan', 23, 'M'),\n",
       " ('Ramya', 22, 'F'),\n",
       " ('Srikanth', 25, 'M'),\n",
       " ('Priya', 23, 'F'),\n",
       " ('Gayu', 23, 'F')]"
      ]
     },
     "execution_count": 16,
     "metadata": {},
     "output_type": "execute_result"
    }
   ],
   "source": [
    "print(Person)\n",
    "Person"
   ]
  },
  {
   "cell_type": "markdown",
   "id": "45bb1c66",
   "metadata": {},
   "source": [
    "# Printing using string literals"
   ]
  },
  {
   "cell_type": "code",
   "execution_count": 15,
   "id": "03b9ef9a",
   "metadata": {},
   "outputs": [
    {
     "name": "stdout",
     "output_type": "stream",
     "text": [
      "Name                   Age Gender    \n",
      "Charan                  23 M         \n",
      "Ramya                   22 F         \n",
      "Srikanth                25 M         \n",
      "Priya                   23 F         \n",
      "Gayu                    23 F         \n"
     ]
    }
   ],
   "source": [
    "for Name,Age,Gender in Person:\n",
    "    print(f'{Name:15} {Age:>10} {Gender:10}')"
   ]
  },
  {
   "cell_type": "markdown",
   "id": "2b385ff4",
   "metadata": {},
   "source": [
    "# Printing datetime using string literals"
   ]
  },
  {
   "cell_type": "code",
   "execution_count": 29,
   "id": "68edf29d",
   "metadata": {},
   "outputs": [],
   "source": [
    "import datetime\n",
    "\n",
    "today=datetime.datetime(1997,12,3)"
   ]
  },
  {
   "cell_type": "code",
   "execution_count": 30,
   "id": "8a686f3e",
   "metadata": {},
   "outputs": [
    {
     "data": {
      "text/plain": [
       "datetime.datetime(1997, 12, 3, 0, 0)"
      ]
     },
     "execution_count": 30,
     "metadata": {},
     "output_type": "execute_result"
    }
   ],
   "source": [
    "today"
   ]
  },
  {
   "cell_type": "code",
   "execution_count": 31,
   "id": "d71bf3b1",
   "metadata": {},
   "outputs": [
    {
     "name": "stdout",
     "output_type": "stream",
     "text": [
      "1997-12-03 00:00:00\n"
     ]
    }
   ],
   "source": [
    "print(f'{today}')"
   ]
  },
  {
   "cell_type": "code",
   "execution_count": 32,
   "id": "205190d6",
   "metadata": {},
   "outputs": [
    {
     "name": "stdout",
     "output_type": "stream",
     "text": [
      "December 03,1997\n"
     ]
    }
   ],
   "source": [
    "# get diff modes of date from strftime.org\n",
    "print(f'{today:%B %d,%Y}')"
   ]
  },
  {
   "cell_type": "markdown",
   "id": "bd7abbd4",
   "metadata": {},
   "source": [
    "# writing and reading a file"
   ]
  },
  {
   "cell_type": "code",
   "execution_count": 43,
   "id": "1661b260",
   "metadata": {},
   "outputs": [
    {
     "name": "stdout",
     "output_type": "stream",
     "text": [
      "Overwriting test.txt\n"
     ]
    }
   ],
   "source": [
    "%%writefile test.txt\n",
    "Hello, I am Charan.\n",
    "You there."
   ]
  },
  {
   "cell_type": "code",
   "execution_count": 44,
   "id": "7a1c8c81",
   "metadata": {},
   "outputs": [],
   "source": [
    "file=open('test.txt','r')"
   ]
  },
  {
   "cell_type": "code",
   "execution_count": 45,
   "id": "4f527369",
   "metadata": {},
   "outputs": [
    {
     "data": {
      "text/plain": [
       "<_io.TextIOWrapper name='test.txt' mode='r' encoding='cp1252'>"
      ]
     },
     "execution_count": 45,
     "metadata": {},
     "output_type": "execute_result"
    }
   ],
   "source": [
    "file"
   ]
  },
  {
   "cell_type": "code",
   "execution_count": 46,
   "id": "054d4db5",
   "metadata": {},
   "outputs": [
    {
     "data": {
      "text/plain": [
       "'Hello, I am Charan.\\nYou there.\\n'"
      ]
     },
     "execution_count": 46,
     "metadata": {},
     "output_type": "execute_result"
    }
   ],
   "source": [
    "file.read()"
   ]
  },
  {
   "cell_type": "code",
   "execution_count": 52,
   "id": "5e6a038c",
   "metadata": {},
   "outputs": [
    {
     "data": {
      "text/plain": [
       "0"
      ]
     },
     "execution_count": 52,
     "metadata": {},
     "output_type": "execute_result"
    }
   ],
   "source": [
    "file.seek(0)"
   ]
  },
  {
   "cell_type": "code",
   "execution_count": 53,
   "id": "969dea92",
   "metadata": {},
   "outputs": [],
   "source": [
    "content = file.read()"
   ]
  },
  {
   "cell_type": "code",
   "execution_count": 54,
   "id": "586ca4c4",
   "metadata": {},
   "outputs": [
    {
     "data": {
      "text/plain": [
       "'Hello, I am Charan.\\nYou there.\\n'"
      ]
     },
     "execution_count": 54,
     "metadata": {},
     "output_type": "execute_result"
    }
   ],
   "source": [
    "content"
   ]
  },
  {
   "cell_type": "code",
   "execution_count": 55,
   "id": "82fd1b26",
   "metadata": {},
   "outputs": [
    {
     "data": {
      "text/plain": [
       "'Hello, I am Charan.\\nYou there.\\n'"
      ]
     },
     "execution_count": 55,
     "metadata": {},
     "output_type": "execute_result"
    }
   ],
   "source": [
    "content"
   ]
  },
  {
   "cell_type": "code",
   "execution_count": 56,
   "id": "d7af454b",
   "metadata": {},
   "outputs": [],
   "source": [
    "file.close()"
   ]
  },
  {
   "cell_type": "code",
   "execution_count": 73,
   "id": "2846ed1e",
   "metadata": {},
   "outputs": [],
   "source": [
    "file=open('test.txt')"
   ]
  },
  {
   "cell_type": "code",
   "execution_count": 74,
   "id": "95476f54",
   "metadata": {},
   "outputs": [],
   "source": [
    "mylines=file.readlines()"
   ]
  },
  {
   "cell_type": "code",
   "execution_count": 75,
   "id": "f3deea6b",
   "metadata": {},
   "outputs": [
    {
     "name": "stdout",
     "output_type": "stream",
     "text": [
      "Hello, I am Charan.\n",
      "\n",
      "You there.\n",
      "\n"
     ]
    }
   ],
   "source": [
    "for line in mylines:\n",
    "    print(line)\n",
    "file.close()"
   ]
  },
  {
   "cell_type": "code",
   "execution_count": 76,
   "id": "cf216a1f",
   "metadata": {},
   "outputs": [],
   "source": [
    "with open('new.txt','a+') as f:\n",
    "    f.write('This is new file')"
   ]
  },
  {
   "cell_type": "code",
   "execution_count": 77,
   "id": "3becd30c",
   "metadata": {},
   "outputs": [],
   "source": [
    "new_file=open('new.txt')"
   ]
  },
  {
   "cell_type": "code",
   "execution_count": 78,
   "id": "7a56e6dd",
   "metadata": {},
   "outputs": [
    {
     "name": "stdout",
     "output_type": "stream",
     "text": [
      "This is new fileThis is new file\n"
     ]
    }
   ],
   "source": [
    "print(new_file.read())"
   ]
  },
  {
   "cell_type": "code",
   "execution_count": null,
   "id": "a8f9e28a",
   "metadata": {},
   "outputs": [],
   "source": []
  },
  {
   "cell_type": "code",
   "execution_count": null,
   "id": "388959cf",
   "metadata": {},
   "outputs": [],
   "source": []
  }
 ],
 "metadata": {
  "kernelspec": {
   "display_name": "Python 3 (ipykernel)",
   "language": "python",
   "name": "python3"
  },
  "language_info": {
   "codemirror_mode": {
    "name": "ipython",
    "version": 3
   },
   "file_extension": ".py",
   "mimetype": "text/x-python",
   "name": "python",
   "nbconvert_exporter": "python",
   "pygments_lexer": "ipython3",
   "version": "3.9.7"
  }
 },
 "nbformat": 4,
 "nbformat_minor": 5
}
